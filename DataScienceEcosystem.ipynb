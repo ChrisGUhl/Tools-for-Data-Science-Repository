{
 "cells": [
  {
   "cell_type": "markdown",
   "id": "7509efa9-b04f-4948-8bc5-a27d286aec87",
   "metadata": {
    "tags": []
   },
   "source": [
    "# Data Science Tools and Ecosystem"
   ]
  },
  {
   "cell_type": "markdown",
   "id": "db2ade54-9347-4328-9688-01fe9ad3ba67",
   "metadata": {},
   "source": [
    "In this notebook, Data Science Tools and Ecosystem are summarized."
   ]
  },
  {
   "cell_type": "markdown",
   "id": "31ab2c9b-7e54-40c7-8b67-52c17d5df852",
   "metadata": {},
   "source": [
    "**Objectives:**"
   ]
  },
  {
   "cell_type": "markdown",
   "id": "1e86cab6-4850-48ab-bdb9-05a05718ce05",
   "metadata": {},
   "source": [
    "- List popular languages for Data Science\n",
    "- List common libraries used by Data Scientists\n",
    "- Create markdown cell with a table of Data Science tools"
   ]
  },
  {
   "cell_type": "markdown",
   "id": "7ccef386-0723-4a8b-95c8-cbd6b3f40640",
   "metadata": {},
   "source": [
    "## Author\n",
    "Christopher Uhl"
   ]
  },
  {
   "cell_type": "markdown",
   "id": "2cb23d17-0e69-426e-973c-2f3ef5aaf323",
   "metadata": {},
   "source": [
    "Some of the popular languages that Data Scientists use are:"
   ]
  },
  {
   "cell_type": "markdown",
   "id": "15214c64-dd1c-42a0-981e-56d9cb363a17",
   "metadata": {},
   "source": [
    "1. Python\n",
    "2. R\n",
    "3. SQL\n",
    "4. Scala\n",
    "5. C++\n",
    "6. Java"
   ]
  },
  {
   "cell_type": "markdown",
   "id": "d201477b-8c97-4186-a599-c080cb0d528e",
   "metadata": {},
   "source": [
    "Some of the commonly used libraries used by Data Scientists include:"
   ]
  },
  {
   "cell_type": "markdown",
   "id": "8cf4df97-763a-4689-8ede-af769352a042",
   "metadata": {},
   "source": [
    "1. Pandas\n",
    "2. NumPy\n",
    "3. Matplotlib\n",
    "4. Scikit-learn"
   ]
  },
  {
   "cell_type": "markdown",
   "id": "dfeff400-6659-4d93-b19e-debcbc9b1920",
   "metadata": {
    "tags": []
   },
   "source": [
    "| Data Science Tools |\n",
    "| -------------------|\n",
    "| JupyterLab |\n",
    "| VS Code |\n",
    "| GoogleColaboratory |"
   ]
  },
  {
   "cell_type": "markdown",
   "id": "17c95a01-15d4-41a6-bac1-0f3a30e40f1c",
   "metadata": {},
   "source": [
    "### Below are a few examples of evaluating arithmetic expressions in Python"
   ]
  },
  {
   "cell_type": "code",
   "execution_count": 3,
   "id": "19512b0d-6244-4209-8db1-080feeac79a1",
   "metadata": {},
   "outputs": [
    {
     "data": {
      "text/plain": [
       "17"
      ]
     },
     "execution_count": 3,
     "metadata": {},
     "output_type": "execute_result"
    }
   ],
   "source": [
    "# This is a simple arithmetic expression to multiply then add integers\n",
    "(3*4)+5"
   ]
  },
  {
   "cell_type": "code",
   "execution_count": 4,
   "id": "f70c2004-9992-4b1f-bc57-3f98f8789e3b",
   "metadata": {},
   "outputs": [
    {
     "data": {
      "text/plain": [
       "3.3333333333333335"
      ]
     },
     "execution_count": 4,
     "metadata": {},
     "output_type": "execute_result"
    }
   ],
   "source": [
    "# This will convert 200 minutes to hours by dividing by 60\n",
    "200/60"
   ]
  },
  {
   "cell_type": "code",
   "execution_count": null,
   "id": "fef893c4-3fc8-4534-99be-4e15e1631aba",
   "metadata": {},
   "outputs": [],
   "source": []
  }
 ],
 "metadata": {
  "kernelspec": {
   "display_name": "Python 3 (ipykernel)",
   "language": "python",
   "name": "python3"
  },
  "language_info": {
   "codemirror_mode": {
    "name": "ipython",
    "version": 3
   },
   "file_extension": ".py",
   "mimetype": "text/x-python",
   "name": "python",
   "nbconvert_exporter": "python",
   "pygments_lexer": "ipython3",
   "version": "3.7.1"
  }
 },
 "nbformat": 4,
 "nbformat_minor": 5
}
